{
 "cells": [
  {
   "cell_type": "markdown",
   "metadata": {},
   "source": [
    "# API Exemplo\n",
    "\n",
    "### Queremos pegar a cotação do dólar de forma automática e atualizada, como fazemos ?\n",
    "\n",
    "Usamos o awesome api: https://docs.awesomeapi.com.br/\n",
    "\n",
    "API do Twilio comentada: https://www.twilio.com/docs/libraries/python"
   ]
  },
  {
   "cell_type": "code",
   "execution_count": 10,
   "metadata": {},
   "outputs": [
    {
     "name": "stdout",
     "output_type": "stream",
     "text": [
      "4.9275\n"
     ]
    }
   ],
   "source": [
    "import requests\n",
    "import json\n",
    "\n",
    "cotacoes = requests.get(\"https://economia.awesomeapi.com.br/last/USD-BRL,EUR-BRL,BTC-BRL\")# requerimenrto para ter acessoa aos dados do html\n",
    "cotacoes = cotacoes.json() # convertendo dados e json para o python puro\n",
    "cotacao_dolar = cotacoes['USDBRL'][\"bid\"] # do dicioanrio dolar quero pegar o parametro bid \"que seria a cotação do dolar\"\n",
    "#print(cotacoes)\n",
    "print(cotacao_dolar)"
   ]
  },
  {
   "cell_type": "code",
   "execution_count": null,
   "metadata": {},
   "outputs": [],
   "source": []
  },
  {
   "cell_type": "code",
   "execution_count": null,
   "metadata": {},
   "outputs": [],
   "source": []
  }
 ],
 "metadata": {
  "kernelspec": {
   "display_name": "Python 3 (ipykernel)",
   "language": "python",
   "name": "python3"
  },
  "language_info": {
   "codemirror_mode": {
    "name": "ipython",
    "version": 3
   },
   "file_extension": ".py",
   "mimetype": "text/x-python",
   "name": "python",
   "nbconvert_exporter": "python",
   "pygments_lexer": "ipython3",
   "version": "3.9.13"
  }
 },
 "nbformat": 4,
 "nbformat_minor": 4
}
