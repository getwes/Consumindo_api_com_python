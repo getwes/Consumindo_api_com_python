{
 "cells": [
  {
   "cell_type": "markdown",
   "metadata": {},
   "source": [
    "# API Exemplo\n",
    "\n",
    "### Queremos pegar a cotação do dólar de forma automática e atualizada, como fazemos ?\n",
    "\n",
    "Usamos o awesome api: https://docs.awesomeapi.com.br/\n",
    "\n",
    "API do Twilio comentada: https://www.twilio.com/docs/libraries/python"
   ]
  },
  {
   "cell_type": "code",
   "execution_count": 4,
   "metadata": {},
   "outputs": [
    {
     "name": "stdout",
     "output_type": "stream",
     "text": [
      "5.5458\n"
     ]
    }
   ],
   "source": [
    "import requests\n",
    "import json\n",
    "\n",
    "# esse link pode mudar se os donos da API mudarem\n",
    "cotacoes = requests.get(\"https://economia.awesomeapi.com.br/last/USD-BRL,EUR-BRL,BTC-BRL\")\n",
    "cotacoes_dic = cotacoes.json()\n",
    "cotacao_dolar = cotacoes_dic['USDBRL']['bid']\n",
    "print(cotacao_dolar)"
   ]
  }
 ],
 "metadata": {
  "kernelspec": {
   "display_name": "Python 3",
   "language": "python",
   "name": "python3"
  },
  "language_info": {
   "codemirror_mode": {
    "name": "ipython",
    "version": 3
   },
   "file_extension": ".py",
   "mimetype": "text/x-python",
   "name": "python",
   "nbconvert_exporter": "python",
   "pygments_lexer": "ipython3",
   "version": "3.8.5"
  }
 },
 "nbformat": 4,
 "nbformat_minor": 4
}
